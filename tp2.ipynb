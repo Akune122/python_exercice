{
 "cells": [
  {
   "cell_type": "markdown",
   "metadata": {},
   "source": [
    "Exercice 6"
   ]
  },
  {
   "cell_type": "code",
   "execution_count": 54,
   "metadata": {},
   "outputs": [
    {
     "name": "stdout",
     "output_type": "stream",
     "text": [
      "[0, 0, 0, 0, 0, 0, 0, 0, 0, 0, 0, 0, 0, 0, 0, 0, 0, 0, 0, 0, 0, 0, 0, 0, 0, 0, 0, 0, 0, 0, 0, 0, 0, 0, 0, 0, 0, 0, 0, 0, 0, 0, 0, 0, 0, 0, 0, 0, 0, 0, 0, 0, 0, 0, 0, 0, 0, 0, 0, 0, 0, 0, 0, 0, 0, 0, 0, 0, 0, 0, 0, 0, 0, 0, 0, 0, 0, 0, 0, 0, 0, 0, 0, 0, 0, 0, 0, 0, 0, 0, 0, 0, 0, 0, 0, 0, 0, 0, 0, 0] \n",
      "\n",
      "[0, 0, 0, 0, 0, 0, 0, 0, 0, 0, 0, 0, 0, 0, 0, 0, 0, 0, 0, 0, 0, 0, 0, 0, 0, 0, 0, 0, 0, 0, 0, 0, 0, 0, 0, 0, 0, 0, 0, 0, 0, 0, 0, 0, 0, 0, 0, 0, 0, 0, 0, 0, 0, 0, 0, 0, 0, 0, 0, 0, 0, 0, 0, 0, 0, 0, 0, 0, 0, 0, 0, 0, 0, 0, 0, 0, 0, 0, 0, 0, 0, 0, 0, 0, 0, 0, 0, 0, 0, 0, 0, 0, 0, 0, 0, 0, 0, 0, 0, 0] \n",
      "\n",
      "[0, 1, 2, 3, 4, 5, 6, 7, 8, 9, 10, 11, 12, 13, 14, 15, 16, 17, 18, 19, 20, 21, 22, 23, 24, 25, 26, 27, 28, 29, 30, 31, 32, 33, 34, 35, 36, 37, 38, 39, 40, 41, 42, 43, 44, 45, 46, 47, 48, 49, 50, 51, 52, 53, 54, 55, 56, 57, 58, 59, 60, 61, 62, 63, 64, 65, 66, 67, 68, 69, 70, 71, 72, 73, 74, 75, 76, 77, 78, 79, 80, 81, 82, 83, 84, 85, 86, 87, 88, 89, 90, 91, 92, 93, 94, 95, 96, 97, 98, 99] \n",
      "\n",
      "[0, 1, 2, 3, 4, 5, 6, 7, 8, 9, 10, 11, 12, 13, 14, 15, 16, 17, 18, 19, 20, 21, 22, 23, 24, 25, 26, 27, 28, 29, 30, 31, 32, 33, 34, 35, 36, 37, 38, 39, 40, 41, 42, 43, 44, 45, 46, 47, 48, 49, 50, 51, 52, 53, 54, 55, 56, 57, 58, 59, 60, 61, 62, 63, 64, 65, 66, 67, 68, 69, 70, 71, 72, 73, 74, 75, 76, 77, 78, 79, 80, 81, 82, 83, 84, 85, 86, 87, 88, 89, 90, 91, 92, 93, 94, 95, 96, 97, 98, 99] \n",
      "\n",
      "[0, 0, 0, 1, 1, 1, 2, 2, 2, 3, 3, 3, 4, 4, 4, 5, 5, 5, 6, 6, 6, 7, 7, 7, 8, 8, 8, 9, 9, 9, 10, 10, 10, 11, 11, 11, 12, 12, 12, 13, 13, 13, 14, 14, 14, 15, 15, 15, 16, 16, 16, 17, 17, 17, 18, 18, 18, 19, 19, 19, 20, 20, 20, 21, 21, 21, 22, 22, 22, 23, 23, 23, 24, 24, 24, 25, 25, 25, 26, 26, 26, 27, 27, 27, 28, 28, 28, 29, 29, 29, 30, 30, 30, 31, 31, 31, 32, 32, 32, 33, 33, 33, 34, 34, 34, 35, 35, 35, 36, 36, 36, 37, 37, 37, 38, 38, 38, 39, 39, 39, 40, 40, 40, 41, 41, 41, 42, 42, 42, 43, 43, 43, 44, 44, 44, 45, 45, 45, 46, 46, 46, 47, 47, 47, 48, 48, 48, 49, 49, 49, 50, 50, 50, 51, 51, 51, 52, 52, 52, 53, 53, 53, 54, 54, 54, 55, 55, 55, 56, 56, 56, 57, 57, 57, 58, 58, 58, 59, 59, 59, 60, 60, 60, 61, 61, 61, 62, 62, 62, 63, 63, 63, 64, 64, 64, 65, 65, 65, 66, 66, 66, 67, 67, 67, 68, 68, 68, 69, 69, 69, 70, 70, 70, 71, 71, 71, 72, 72, 72, 73, 73, 73, 74, 74, 74, 75, 75, 75, 76, 76, 76, 77, 77, 77, 78, 78, 78, 79, 79, 79, 80, 80, 80, 81, 81, 81, 82, 82, 82, 83, 83, 83, 84, 84, 84, 85, 85, 85, 86, 86, 86, 87, 87, 87, 88, 88, 88, 89, 89, 89, 90, 90, 90, 91, 91, 91, 92, 92, 92, 93, 93, 93, 94, 94, 94, 95, 95, 95, 96, 96, 96, 97, 97, 97, 98, 98, 98] \n",
      "\n",
      "[0, 1, 2, 3, 4, 5, 6, 7, 8, 9, 10, 11, 12, 13, 14, 15, 16, 17, 18, 19, 20, 21, 22, 23, 24, 25, 26, 27, 28, 29, 30, 31, 32, 33, 34, 35, 36, 37, 38, 39, 40, 41, 42, 43, 44, 45, 46, 47, 48, 49, 50, 51, 52, 53, 54, 55, 56, 57, 58, 59, 60, 61, 62, 63, 64, 65, 66, 67, 68, 69, 70, 71, 72, 73, 74, 75, 76, 77, 78, 79, 80, 81, 82, 83, 84, 85, 86, 87, 88, 89, 90, 91, 92, 93, 94, 95, 96, 97, 98, 99, 98, 97, 96, 95, 94, 93, 92, 91, 90, 89, 88, 87, 86, 85, 84, 83, 82, 81, 80, 79, 78, 77, 76, 75, 74, 73, 72, 71, 70, 69, 68, 67, 66, 65, 64, 63, 62, 61, 60, 59, 58, 57, 56, 55, 54, 53, 52, 51, 50, 49, 48, 47, 46, 45, 44, 43, 42, 41, 40, 39, 38, 37, 36, 35, 34, 33, 32, 31, 30, 29, 28, 27, 26, 25, 24, 23, 22, 21, 20, 19, 18, 17, 16, 15, 14, 13, 12, 11, 10, 9, 8, 7, 6, 5, 4, 3, 2, 1, 0] \n",
      " 199\n",
      "[1, 2, 4, 8, 16, 32, 64, 128, 256, 512, 1024, 2048, 4096, 8192, 16384, 32768, 65536, 131072, 262144, 524288, 1048576] \n",
      "\n",
      "[0, 3, 5, 6, 9, 10, 12, 15, 18, 20, 21, 24, 25, 27, 30, 33, 35, 36, 39, 40, 42, 45, 48, 50, 51, 54, 55, 57, 60, 63, 65, 66, 69, 70, 72, 75, 78, 80, 81, 84, 85, 87, 90, 93, 95, 96, 99] \n",
      "\n"
     ]
    }
   ],
   "source": [
    "\n",
    "#Question 1\n",
    "\n",
    "L=[]\n",
    "for i in range (0,100):\n",
    "    L = L+[0]\n",
    "print(L,\"\\n\")\n",
    "\n",
    "L2=[0]*100\n",
    "print(L2,\"\\n\")\n",
    "\n",
    "#Question 2 \n",
    "L3=list(range(0,100))\n",
    "print(L3,\"\\n\")\n",
    "\n",
    "L4=[]\n",
    "for i in range(0,100):\n",
    "    L4.append(i)\n",
    "print(L4,\"\\n\")\n",
    "\n",
    "\n",
    "#Question 3\n",
    "L5=[]\n",
    "for i in range(0,99):\n",
    "    for k in range(0,3):\n",
    "        L5.append(i)\n",
    "print(L5,\"\\n\")\n",
    "\n",
    "#Question 4\n",
    "L6=list(range (0,100))\n",
    "for i in range(0,99):\n",
    "    r=98\n",
    "    L6.append(r-i)\n",
    "print(L6,\"\\n\",len(L6))\n",
    "\n",
    "#Question 5 \n",
    "L7=[2**i for i in range(0,21)]\n",
    "print(L7,\"\\n\")\n",
    "\n",
    "#Question 6\n",
    "L8=[x for x in range(0,100) if x%3==0 or x%5==0 and x%15!=0]\n",
    "print(L8,\"\\n\")"
   ]
  },
  {
   "cell_type": "markdown",
   "metadata": {},
   "source": [
    "Exercice 7"
   ]
  },
  {
   "cell_type": "code",
   "execution_count": 108,
   "metadata": {},
   "outputs": [
    {
     "name": "stdout",
     "output_type": "stream",
     "text": [
      "35\n",
      "11\n",
      "5\n",
      "False\n"
     ]
    }
   ],
   "source": [
    "L=[0,-1,3,5,9,11,2,1,5]\n",
    "L2=[0,3,5,9,11]\n",
    "#Q1\n",
    "\n",
    "somme_liste=0\n",
    "for i in L:\n",
    "    somme_liste=somme_liste+i\n",
    "print(somme_liste)\n",
    "\n",
    "#Q2\n",
    "max_liste=0\n",
    "for i in L:\n",
    "    if i>max_liste:\n",
    "        max_liste=i\n",
    "print(max_liste)\n",
    "\n",
    "#Q3\n",
    "indice_max_liste=0\n",
    "for i in range(len(L)):\n",
    "    if L[i]>indice_max_liste:\n",
    "        indice_max_liste=i\n",
    "print(indice_max_liste)\n",
    "\n",
    "#Q4\n",
    "est_croissant=True\n",
    "for i in range(0,len(L)-2):\n",
    "    if L[i+1]<L[i]:\n",
    "        est_croissant=False\n",
    "print(est_croissant)\n"
   ]
  },
  {
   "cell_type": "markdown",
   "metadata": {},
   "source": [
    "Exercice 8 "
   ]
  },
  {
   "cell_type": "code",
   "execution_count": 36,
   "metadata": {},
   "outputs": [
    {
     "name": "stdout",
     "output_type": "stream",
     "text": [
      "Le nombre de zéros est :  2\n",
      "Le nombre de un est :  3\n",
      "4\n"
     ]
    }
   ],
   "source": [
    "#Q1\n",
    "\n",
    "L=[0,-1,3,5,9,11,2,1,5,1,0,1]\n",
    "\n",
    "nb_zeros=0\n",
    "nb_un=0\n",
    "for i in L:\n",
    "    if i==0:\n",
    "        nb_zeros=nb_zeros+1\n",
    "    elif i==1:\n",
    "        nb_un=nb_un+1\n",
    "print(\"Le nombre de zéros est : \",nb_zeros)\n",
    "print(\"Le nombre de un est : \",nb_un)\n",
    "\n",
    "#Q2\n",
    "\n",
    "x=0\n",
    "fin=False\n",
    "while fin==False:\n",
    "    if x in L:\n",
    "        x=x+1\n",
    "    else:\n",
    "        fin=True\n",
    "print(x)\n"
   ]
  },
  {
   "cell_type": "markdown",
   "metadata": {},
   "source": [
    "Exercice 9"
   ]
  },
  {
   "cell_type": "code",
   "execution_count": 52,
   "metadata": {},
   "outputs": [
    {
     "name": "stdout",
     "output_type": "stream",
     "text": [
      "[46, 48, 50, 52, 54, 56, 58, 60, 62, 64] \n",
      "\n",
      "[0, 7, 14, 21, 28, 35, 42, 49, 56, 63] \n",
      "\n",
      "[0, 1, 2, 3, 4, 5, 6, 7, 8, 9] \n",
      "\n",
      "[99, 98, 97, 96, 95, 94, 93, 92, 91, 90, 89, 88, 87, 86, 85, 84, 83, 82, 81, 80, 79, 78, 77, 76, 75, 74, 73, 72, 71, 70, 69, 68, 67, 66, 65, 64, 63, 62, 61, 60, 59, 58, 57, 56, 55, 54, 53, 52, 51] \n",
      "\n",
      "[1, 2, 3, 4, 5, 6, 7, 8, 9, 10, 11, 12, 13, 14, 15, 16, 17, 18, 19, 21, 22, 23, 24, 25, 26, 27, 28, 29, 30, 31, 32, 33, 34, 35, 36, 37, 38, 39, 41, 42, 43, 44, 45, 46, 47, 48, 49]\n"
     ]
    }
   ],
   "source": [
    "#Q1\n",
    "L=list(range(100))\n",
    "L2=[x for x in L[45:65] if x%2==0]\n",
    "print(L2,\"\\n\")\n",
    "\n",
    "#Q2\n",
    "L3=[x for x in L[0:70] if x%7==0]\n",
    "print(L3,\"\\n\")\n",
    "\n",
    "#Q3\n",
    "print(L[:10],\"\\n\")\n",
    "\n",
    "#Q4\n",
    "print(L[:50:-1],\"\\n\")\n",
    "\n",
    "#Q5\n",
    "L4=[x for x in L[1:50] if x%20!=0]\n",
    "print(L4)"
   ]
  },
  {
   "cell_type": "markdown",
   "metadata": {},
   "source": [
    "Exercice 10"
   ]
  },
  {
   "cell_type": "code",
   "execution_count": 1,
   "metadata": {},
   "outputs": [
    {
     "name": "stdout",
     "output_type": "stream",
     "text": [
      "[1, 4, 9, 16, 25, 36, 49, 64, 81, 100, 121, 144]\n",
      "[1, 2, 4, 5, 7, 8, 10, 11, 13]\n",
      "[1, 6, 13]\n",
      "['T', 'G', 'C', 'A', 'T', 'G', 'C', 'A', 'T', 'G', 'C', 'A', 'T', 'G', 'C', 'A', 'T', 'G', 'C', 'A']\n"
     ]
    }
   ],
   "source": [
    "def carres(n):\n",
    "    L=[]\n",
    "    for i in range(0,n):\n",
    "        L=L + [(i+1)**2]\n",
    "    return L\n",
    "\n",
    "print(carres(12))\n",
    "\n",
    "def non_div_3(n):\n",
    "    L=[]\n",
    "    for i in range(0,n-1):\n",
    "        if i%3!=0:\n",
    "            L = L+[i]\n",
    "    return L        \n",
    "print(non_div_3(15))\n",
    "\n",
    "def addtition(L1,L2):\n",
    "    L3=[0]*len(L1)\n",
    "    for i in range(len(L1)):\n",
    "        L3[i]=L1[i]+L2[i]\n",
    "    return L3\n",
    "print(addtition([0,2,5],[1,4,8]))\n",
    "\n",
    "def complementaire(L):\n",
    "    L2=[]\n",
    "    for c in L:\n",
    "        if c==\"A\":\n",
    "            L2.append(\"T\")\n",
    "        elif c==\"T\":\n",
    "            L2.append(\"A\")\n",
    "        elif c==\"C\":\n",
    "            L2.append(\"G\")\n",
    "        elif c==\"G\":\n",
    "            L2.append(\"C\")\n",
    "    return L2\n",
    "print(complementaire([\"A\",\"C\",\"G\",\"T\"]*5))\n",
    "\n",
    "\n",
    "\n",
    "\n"
   ]
  },
  {
   "cell_type": "markdown",
   "metadata": {},
   "source": [
    "Exercice 11"
   ]
  },
  {
   "cell_type": "code",
   "execution_count": 8,
   "metadata": {},
   "outputs": [
    {
     "name": "stdout",
     "output_type": "stream",
     "text": [
      "[1, 3, 8, 12.5, 25.5, 45, 52]\n"
     ]
    }
   ],
   "source": [
    "L=[8,3,12.5,45,25.5,52,1]\n",
    "tampon=0\n",
    "for i in range(1, len(L)):  \n",
    "    tampon=L[i]\n",
    "    j = i - 1 \n",
    "    while   j >=0 and L[j] > tampon:\n",
    "        L[j+1] = L[j]\n",
    "        j -= 1\n",
    "    L[j+1] = tampon\n",
    "print(L)\n",
    "\n",
    "\n",
    "\n",
    "\n",
    "\n"
   ]
  },
  {
   "cell_type": "markdown",
   "metadata": {},
   "source": [
    "Exercice 12"
   ]
  },
  {
   "cell_type": "code",
   "execution_count": 109,
   "metadata": {},
   "outputs": [
    {
     "name": "stdout",
     "output_type": "stream",
     "text": [
      "[1, 2, 3, 4, 5, 6]\n"
     ]
    }
   ],
   "source": [
    "L = [5,1,1,2,5,6,3,4,4,4,2]\n",
    "\n",
    "\n",
    "def tri(L):\n",
    "    for i in range(1, len(L)):  \n",
    "        tampon=L[i]\n",
    "        j = i - 1 \n",
    "        while   j >=0 and L[j] > tampon:\n",
    "            L[j+1] = L[j]\n",
    "            j -= 1\n",
    "        L[j+1] = tampon\n",
    "    return L        \n",
    "\n",
    "L2 = []\n",
    "\n",
    "for i in L:\n",
    "    if i not in L2:\n",
    "        L2.append(i)\n",
    "print(tri(L2))"
   ]
  },
  {
   "cell_type": "markdown",
   "metadata": {},
   "source": [
    "Exercice 13"
   ]
  },
  {
   "cell_type": "code",
   "execution_count": 113,
   "metadata": {},
   "outputs": [
    {
     "name": "stdout",
     "output_type": "stream",
     "text": [
      "[10, 2, 10, 3, 1, 4, 0, 5, 1, 10, 10, 9, 7, 5, 9, 5, 3, 7, 2, 4]\n",
      "[0, 1, 1, 2, 2, 3, 3, 4, 4, 5, 5, 5, 7, 7, 9, 9, 10, 10, 10, 10]\n"
     ]
    }
   ],
   "source": [
    "from random import randint\n",
    "\n",
    "L=[randint(0,10) for i in range(20)]\n",
    "print(L)\n",
    "\n",
    "def tri_selection(L):\n",
    "    for i in range(0,len(L)-1):\n",
    "        m=i\n",
    "        for k in range(m,len(L)):\n",
    "            if L[k]<L[m]:\n",
    "                m=k   \n",
    "        if m != i:\n",
    "            tampon=L[i]\n",
    "            L[i]=L[m]\n",
    "            L[m]=tampon\n",
    "    return L\n",
    "\n",
    "print(tri_selection(L))\n"
   ]
  }
 ],
 "metadata": {
  "kernelspec": {
   "display_name": "Python 3",
   "language": "python",
   "name": "python3"
  },
  "language_info": {
   "codemirror_mode": {
    "name": "ipython",
    "version": 3
   },
   "file_extension": ".py",
   "mimetype": "text/x-python",
   "name": "python",
   "nbconvert_exporter": "python",
   "pygments_lexer": "ipython3",
   "version": "3.11.3"
  }
 },
 "nbformat": 4,
 "nbformat_minor": 2
}
